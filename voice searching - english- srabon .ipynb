{
 "cells": [
  {
   "cell_type": "code",
   "execution_count": 5,
   "id": "2f9dd078",
   "metadata": {},
   "outputs": [],
   "source": [
    "import speech_recognition as sr\n",
    "from pydub import AudioSegment\n",
    "from pydub.playback import play\n",
    "\n",
    "def search_word_in_audio(audio_file_path, target_word):\n",
    "    # Load the audio file\n",
    "    audio = AudioSegment.from_mp3(audio_file_path)\n",
    "\n",
    "    # Export audio to a temporary WAV file\n",
    "    temp_wav_path = \"temp_audio.wav\"\n",
    "    audio.export(temp_wav_path, format=\"wav\")\n",
    "\n",
    "    # Initialize the recognizer\n",
    "    recognizer = sr.Recognizer()\n",
    "\n",
    "    with sr.AudioFile(temp_wav_path) as source:\n",
    "        audio_data = recognizer.record(source)  # Record the entire audio file\n",
    "\n",
    "    try:\n",
    "        # Use Google Web Speech API to recognize the speech\n",
    "        recognized_text = recognizer.recognize_google(audio_data)\n",
    "        print(\"Recognized Text:\", recognized_text)\n",
    "\n",
    "        # Check if the target word exists in the recognized text\n",
    "        if target_word.lower() in recognized_text.lower():\n",
    "            print(f\"'{target_word}' found in the audio.\")\n",
    "        else:\n",
    "            print(f\"'{target_word}' not found in the audio.\")\n",
    "    except sr.UnknownValueError:\n",
    "        print(\"Speech recognition could not understand audio\")\n",
    "    except sr.RequestError as e:\n",
    "        print(\"Could not request results from Google Web Speech API; {0}\".format(e))\n",
    "\n",
    "\n"
   ]
  },
  {
   "cell_type": "code",
   "execution_count": 6,
   "id": "9335ea62",
   "metadata": {},
   "outputs": [
    {
     "name": "stdout",
     "output_type": "stream",
     "text": [
      "Enter the word to search for: s\n",
      "Recognized Text: my name is sraban I love myself how are you everything going well\n",
      "'s' found in the audio.\n"
     ]
    }
   ],
   "source": [
    "if __name__ == \"__main__\":\n",
    "    audio_file_path = \"Text-to-Speech_30-Aug-2023_10-59.wav\"\n",
    "    target_word = input(\"Enter the word to search for: \")\n",
    "\n",
    "    search_word_in_audio(audio_file_path, target_word)"
   ]
  },
  {
   "cell_type": "code",
   "execution_count": null,
   "id": "1f776c41",
   "metadata": {},
   "outputs": [],
   "source": []
  }
 ],
 "metadata": {
  "kernelspec": {
   "display_name": "Python 3 (ipykernel)",
   "language": "python",
   "name": "python3"
  },
  "language_info": {
   "codemirror_mode": {
    "name": "ipython",
    "version": 3
   },
   "file_extension": ".py",
   "mimetype": "text/x-python",
   "name": "python",
   "nbconvert_exporter": "python",
   "pygments_lexer": "ipython3",
   "version": "3.9.17"
  },
  "toc": {
   "base_numbering": 1,
   "nav_menu": {},
   "number_sections": true,
   "sideBar": true,
   "skip_h1_title": false,
   "title_cell": "Table of Contents",
   "title_sidebar": "Contents",
   "toc_cell": false,
   "toc_position": {},
   "toc_section_display": true,
   "toc_window_display": false
  },
  "varInspector": {
   "cols": {
    "lenName": 16,
    "lenType": 16,
    "lenVar": 40
   },
   "kernels_config": {
    "python": {
     "delete_cmd_postfix": "",
     "delete_cmd_prefix": "del ",
     "library": "var_list.py",
     "varRefreshCmd": "print(var_dic_list())"
    },
    "r": {
     "delete_cmd_postfix": ") ",
     "delete_cmd_prefix": "rm(",
     "library": "var_list.r",
     "varRefreshCmd": "cat(var_dic_list()) "
    }
   },
   "types_to_exclude": [
    "module",
    "function",
    "builtin_function_or_method",
    "instance",
    "_Feature"
   ],
   "window_display": false
  }
 },
 "nbformat": 4,
 "nbformat_minor": 5
}
